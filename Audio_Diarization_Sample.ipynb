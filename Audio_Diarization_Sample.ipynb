{
  "cells": [
    {
      "cell_type": "markdown",
      "metadata": {
        "id": "view-in-github",
        "colab_type": "text"
      },
      "source": [
        "<a href=\"https://colab.research.google.com/github/TS0713/misc_sentiment_analysis/blob/main/Audio_Diarization_Sample.ipynb\" target=\"_parent\"><img src=\"https://colab.research.google.com/assets/colab-badge.svg\" alt=\"Open In Colab\"/></a>"
      ]
    },
    {
      "cell_type": "code",
      "execution_count": null,
      "metadata": {
        "colab": {
          "base_uri": "https://localhost:8080/",
          "height": 1000
        },
        "id": "MQUgxzzLQuyo",
        "outputId": "42fed733-3101-405e-cc58-9f9e28219fa0"
      },
      "outputs": [
        {
          "output_type": "stream",
          "name": "stdout",
          "text": [
            "Looking in indexes: https://pypi.org/simple, https://us-python.pkg.dev/colab-wheels/public/simple/\n",
            "Requirement already satisfied: google-cloud-language in /usr/local/lib/python3.8/dist-packages (2.6.1)\n",
            "Collecting google-cloud-language\n",
            "  Downloading google_cloud_language-2.9.0-py2.py3-none-any.whl (99 kB)\n",
            "\u001b[2K     \u001b[90m━━━━━━━━━━━━━━━━━━━━━━━━━━━━━━━━━━━━━━━━\u001b[0m \u001b[32m99.2/99.2 KB\u001b[0m \u001b[31m4.1 MB/s\u001b[0m eta \u001b[36m0:00:00\u001b[0m\n",
            "\u001b[?25hRequirement already satisfied: protobuf!=3.20.0,!=3.20.1,!=4.21.0,!=4.21.1,!=4.21.2,!=4.21.3,!=4.21.4,!=4.21.5,<5.0.0dev,>=3.19.5 in /usr/local/lib/python3.8/dist-packages (from google-cloud-language) (3.19.6)\n",
            "Requirement already satisfied: proto-plus<2.0.0dev,>=1.22.0 in /usr/local/lib/python3.8/dist-packages (from google-cloud-language) (1.22.2)\n",
            "Requirement already satisfied: google-api-core[grpc]!=2.0.*,!=2.1.*,!=2.10.*,!=2.2.*,!=2.3.*,!=2.4.*,!=2.5.*,!=2.6.*,!=2.7.*,!=2.8.*,!=2.9.*,<3.0.0dev,>=1.34.0 in /usr/local/lib/python3.8/dist-packages (from google-cloud-language) (2.11.0)\n",
            "Requirement already satisfied: googleapis-common-protos<2.0dev,>=1.56.2 in /usr/local/lib/python3.8/dist-packages (from google-api-core[grpc]!=2.0.*,!=2.1.*,!=2.10.*,!=2.2.*,!=2.3.*,!=2.4.*,!=2.5.*,!=2.6.*,!=2.7.*,!=2.8.*,!=2.9.*,<3.0.0dev,>=1.34.0->google-cloud-language) (1.58.0)\n",
            "Requirement already satisfied: requests<3.0.0dev,>=2.18.0 in /usr/local/lib/python3.8/dist-packages (from google-api-core[grpc]!=2.0.*,!=2.1.*,!=2.10.*,!=2.2.*,!=2.3.*,!=2.4.*,!=2.5.*,!=2.6.*,!=2.7.*,!=2.8.*,!=2.9.*,<3.0.0dev,>=1.34.0->google-cloud-language) (2.25.1)\n",
            "Requirement already satisfied: google-auth<3.0dev,>=2.14.1 in /usr/local/lib/python3.8/dist-packages (from google-api-core[grpc]!=2.0.*,!=2.1.*,!=2.10.*,!=2.2.*,!=2.3.*,!=2.4.*,!=2.5.*,!=2.6.*,!=2.7.*,!=2.8.*,!=2.9.*,<3.0.0dev,>=1.34.0->google-cloud-language) (2.16.1)\n",
            "Requirement already satisfied: grpcio<2.0dev,>=1.33.2 in /usr/local/lib/python3.8/dist-packages (from google-api-core[grpc]!=2.0.*,!=2.1.*,!=2.10.*,!=2.2.*,!=2.3.*,!=2.4.*,!=2.5.*,!=2.6.*,!=2.7.*,!=2.8.*,!=2.9.*,<3.0.0dev,>=1.34.0->google-cloud-language) (1.51.3)\n",
            "Requirement already satisfied: grpcio-status<2.0dev,>=1.33.2 in /usr/local/lib/python3.8/dist-packages (from google-api-core[grpc]!=2.0.*,!=2.1.*,!=2.10.*,!=2.2.*,!=2.3.*,!=2.4.*,!=2.5.*,!=2.6.*,!=2.7.*,!=2.8.*,!=2.9.*,<3.0.0dev,>=1.34.0->google-cloud-language) (1.48.2)\n",
            "Requirement already satisfied: six>=1.9.0 in /usr/local/lib/python3.8/dist-packages (from google-auth<3.0dev,>=2.14.1->google-api-core[grpc]!=2.0.*,!=2.1.*,!=2.10.*,!=2.2.*,!=2.3.*,!=2.4.*,!=2.5.*,!=2.6.*,!=2.7.*,!=2.8.*,!=2.9.*,<3.0.0dev,>=1.34.0->google-cloud-language) (1.15.0)\n",
            "Requirement already satisfied: cachetools<6.0,>=2.0.0 in /usr/local/lib/python3.8/dist-packages (from google-auth<3.0dev,>=2.14.1->google-api-core[grpc]!=2.0.*,!=2.1.*,!=2.10.*,!=2.2.*,!=2.3.*,!=2.4.*,!=2.5.*,!=2.6.*,!=2.7.*,!=2.8.*,!=2.9.*,<3.0.0dev,>=1.34.0->google-cloud-language) (5.3.0)\n",
            "Requirement already satisfied: rsa<5,>=3.1.4 in /usr/local/lib/python3.8/dist-packages (from google-auth<3.0dev,>=2.14.1->google-api-core[grpc]!=2.0.*,!=2.1.*,!=2.10.*,!=2.2.*,!=2.3.*,!=2.4.*,!=2.5.*,!=2.6.*,!=2.7.*,!=2.8.*,!=2.9.*,<3.0.0dev,>=1.34.0->google-cloud-language) (4.9)\n",
            "Requirement already satisfied: pyasn1-modules>=0.2.1 in /usr/local/lib/python3.8/dist-packages (from google-auth<3.0dev,>=2.14.1->google-api-core[grpc]!=2.0.*,!=2.1.*,!=2.10.*,!=2.2.*,!=2.3.*,!=2.4.*,!=2.5.*,!=2.6.*,!=2.7.*,!=2.8.*,!=2.9.*,<3.0.0dev,>=1.34.0->google-cloud-language) (0.2.8)\n",
            "Requirement already satisfied: chardet<5,>=3.0.2 in /usr/local/lib/python3.8/dist-packages (from requests<3.0.0dev,>=2.18.0->google-api-core[grpc]!=2.0.*,!=2.1.*,!=2.10.*,!=2.2.*,!=2.3.*,!=2.4.*,!=2.5.*,!=2.6.*,!=2.7.*,!=2.8.*,!=2.9.*,<3.0.0dev,>=1.34.0->google-cloud-language) (4.0.0)\n",
            "Requirement already satisfied: idna<3,>=2.5 in /usr/local/lib/python3.8/dist-packages (from requests<3.0.0dev,>=2.18.0->google-api-core[grpc]!=2.0.*,!=2.1.*,!=2.10.*,!=2.2.*,!=2.3.*,!=2.4.*,!=2.5.*,!=2.6.*,!=2.7.*,!=2.8.*,!=2.9.*,<3.0.0dev,>=1.34.0->google-cloud-language) (2.10)\n",
            "Requirement already satisfied: urllib3<1.27,>=1.21.1 in /usr/local/lib/python3.8/dist-packages (from requests<3.0.0dev,>=2.18.0->google-api-core[grpc]!=2.0.*,!=2.1.*,!=2.10.*,!=2.2.*,!=2.3.*,!=2.4.*,!=2.5.*,!=2.6.*,!=2.7.*,!=2.8.*,!=2.9.*,<3.0.0dev,>=1.34.0->google-cloud-language) (1.26.14)\n",
            "Requirement already satisfied: certifi>=2017.4.17 in /usr/local/lib/python3.8/dist-packages (from requests<3.0.0dev,>=2.18.0->google-api-core[grpc]!=2.0.*,!=2.1.*,!=2.10.*,!=2.2.*,!=2.3.*,!=2.4.*,!=2.5.*,!=2.6.*,!=2.7.*,!=2.8.*,!=2.9.*,<3.0.0dev,>=1.34.0->google-cloud-language) (2022.12.7)\n",
            "Requirement already satisfied: pyasn1<0.5.0,>=0.4.6 in /usr/local/lib/python3.8/dist-packages (from pyasn1-modules>=0.2.1->google-auth<3.0dev,>=2.14.1->google-api-core[grpc]!=2.0.*,!=2.1.*,!=2.10.*,!=2.2.*,!=2.3.*,!=2.4.*,!=2.5.*,!=2.6.*,!=2.7.*,!=2.8.*,!=2.9.*,<3.0.0dev,>=1.34.0->google-cloud-language) (0.4.8)\n",
            "Installing collected packages: google-cloud-language\n",
            "  Attempting uninstall: google-cloud-language\n",
            "    Found existing installation: google-cloud-language 2.6.1\n",
            "    Uninstalling google-cloud-language-2.6.1:\n",
            "      Successfully uninstalled google-cloud-language-2.6.1\n",
            "Successfully installed google-cloud-language-2.9.0\n"
          ]
        },
        {
          "output_type": "display_data",
          "data": {
            "application/vnd.colab-display-data+json": {
              "pip_warning": {
                "packages": [
                  "google"
                ]
              }
            }
          },
          "metadata": {}
        },
        {
          "output_type": "stream",
          "name": "stdout",
          "text": [
            "Looking in indexes: https://pypi.org/simple, https://us-python.pkg.dev/colab-wheels/public/simple/\n",
            "Collecting google-cloud-speech\n",
            "  Downloading google_cloud_speech-2.18.0-py2.py3-none-any.whl (271 kB)\n",
            "\u001b[2K     \u001b[90m━━━━━━━━━━━━━━━━━━━━━━━━━━━━━━━━━━━━━━━\u001b[0m \u001b[32m271.7/271.7 KB\u001b[0m \u001b[31m7.2 MB/s\u001b[0m eta \u001b[36m0:00:00\u001b[0m\n",
            "\u001b[?25hRequirement already satisfied: google-api-core[grpc]!=2.0.*,!=2.1.*,!=2.10.*,!=2.2.*,!=2.3.*,!=2.4.*,!=2.5.*,!=2.6.*,!=2.7.*,!=2.8.*,!=2.9.*,<3.0.0dev,>=1.34.0 in /usr/local/lib/python3.8/dist-packages (from google-cloud-speech) (2.11.0)\n",
            "Requirement already satisfied: protobuf!=3.20.0,!=3.20.1,!=4.21.0,!=4.21.1,!=4.21.2,!=4.21.3,!=4.21.4,!=4.21.5,<5.0.0dev,>=3.19.5 in /usr/local/lib/python3.8/dist-packages (from google-cloud-speech) (3.19.6)\n",
            "Requirement already satisfied: proto-plus<2.0.0dev,>=1.22.0 in /usr/local/lib/python3.8/dist-packages (from google-cloud-speech) (1.22.2)\n",
            "Requirement already satisfied: googleapis-common-protos<2.0dev,>=1.56.2 in /usr/local/lib/python3.8/dist-packages (from google-api-core[grpc]!=2.0.*,!=2.1.*,!=2.10.*,!=2.2.*,!=2.3.*,!=2.4.*,!=2.5.*,!=2.6.*,!=2.7.*,!=2.8.*,!=2.9.*,<3.0.0dev,>=1.34.0->google-cloud-speech) (1.58.0)\n",
            "Requirement already satisfied: google-auth<3.0dev,>=2.14.1 in /usr/local/lib/python3.8/dist-packages (from google-api-core[grpc]!=2.0.*,!=2.1.*,!=2.10.*,!=2.2.*,!=2.3.*,!=2.4.*,!=2.5.*,!=2.6.*,!=2.7.*,!=2.8.*,!=2.9.*,<3.0.0dev,>=1.34.0->google-cloud-speech) (2.16.1)\n",
            "Requirement already satisfied: requests<3.0.0dev,>=2.18.0 in /usr/local/lib/python3.8/dist-packages (from google-api-core[grpc]!=2.0.*,!=2.1.*,!=2.10.*,!=2.2.*,!=2.3.*,!=2.4.*,!=2.5.*,!=2.6.*,!=2.7.*,!=2.8.*,!=2.9.*,<3.0.0dev,>=1.34.0->google-cloud-speech) (2.25.1)\n",
            "Requirement already satisfied: grpcio-status<2.0dev,>=1.33.2 in /usr/local/lib/python3.8/dist-packages (from google-api-core[grpc]!=2.0.*,!=2.1.*,!=2.10.*,!=2.2.*,!=2.3.*,!=2.4.*,!=2.5.*,!=2.6.*,!=2.7.*,!=2.8.*,!=2.9.*,<3.0.0dev,>=1.34.0->google-cloud-speech) (1.48.2)\n",
            "Requirement already satisfied: grpcio<2.0dev,>=1.33.2 in /usr/local/lib/python3.8/dist-packages (from google-api-core[grpc]!=2.0.*,!=2.1.*,!=2.10.*,!=2.2.*,!=2.3.*,!=2.4.*,!=2.5.*,!=2.6.*,!=2.7.*,!=2.8.*,!=2.9.*,<3.0.0dev,>=1.34.0->google-cloud-speech) (1.51.3)\n",
            "Requirement already satisfied: pyasn1-modules>=0.2.1 in /usr/local/lib/python3.8/dist-packages (from google-auth<3.0dev,>=2.14.1->google-api-core[grpc]!=2.0.*,!=2.1.*,!=2.10.*,!=2.2.*,!=2.3.*,!=2.4.*,!=2.5.*,!=2.6.*,!=2.7.*,!=2.8.*,!=2.9.*,<3.0.0dev,>=1.34.0->google-cloud-speech) (0.2.8)\n",
            "Requirement already satisfied: six>=1.9.0 in /usr/local/lib/python3.8/dist-packages (from google-auth<3.0dev,>=2.14.1->google-api-core[grpc]!=2.0.*,!=2.1.*,!=2.10.*,!=2.2.*,!=2.3.*,!=2.4.*,!=2.5.*,!=2.6.*,!=2.7.*,!=2.8.*,!=2.9.*,<3.0.0dev,>=1.34.0->google-cloud-speech) (1.15.0)\n",
            "Requirement already satisfied: rsa<5,>=3.1.4 in /usr/local/lib/python3.8/dist-packages (from google-auth<3.0dev,>=2.14.1->google-api-core[grpc]!=2.0.*,!=2.1.*,!=2.10.*,!=2.2.*,!=2.3.*,!=2.4.*,!=2.5.*,!=2.6.*,!=2.7.*,!=2.8.*,!=2.9.*,<3.0.0dev,>=1.34.0->google-cloud-speech) (4.9)\n",
            "Requirement already satisfied: cachetools<6.0,>=2.0.0 in /usr/local/lib/python3.8/dist-packages (from google-auth<3.0dev,>=2.14.1->google-api-core[grpc]!=2.0.*,!=2.1.*,!=2.10.*,!=2.2.*,!=2.3.*,!=2.4.*,!=2.5.*,!=2.6.*,!=2.7.*,!=2.8.*,!=2.9.*,<3.0.0dev,>=1.34.0->google-cloud-speech) (5.3.0)\n",
            "Requirement already satisfied: certifi>=2017.4.17 in /usr/local/lib/python3.8/dist-packages (from requests<3.0.0dev,>=2.18.0->google-api-core[grpc]!=2.0.*,!=2.1.*,!=2.10.*,!=2.2.*,!=2.3.*,!=2.4.*,!=2.5.*,!=2.6.*,!=2.7.*,!=2.8.*,!=2.9.*,<3.0.0dev,>=1.34.0->google-cloud-speech) (2022.12.7)\n",
            "Requirement already satisfied: idna<3,>=2.5 in /usr/local/lib/python3.8/dist-packages (from requests<3.0.0dev,>=2.18.0->google-api-core[grpc]!=2.0.*,!=2.1.*,!=2.10.*,!=2.2.*,!=2.3.*,!=2.4.*,!=2.5.*,!=2.6.*,!=2.7.*,!=2.8.*,!=2.9.*,<3.0.0dev,>=1.34.0->google-cloud-speech) (2.10)\n",
            "Requirement already satisfied: chardet<5,>=3.0.2 in /usr/local/lib/python3.8/dist-packages (from requests<3.0.0dev,>=2.18.0->google-api-core[grpc]!=2.0.*,!=2.1.*,!=2.10.*,!=2.2.*,!=2.3.*,!=2.4.*,!=2.5.*,!=2.6.*,!=2.7.*,!=2.8.*,!=2.9.*,<3.0.0dev,>=1.34.0->google-cloud-speech) (4.0.0)\n",
            "Requirement already satisfied: urllib3<1.27,>=1.21.1 in /usr/local/lib/python3.8/dist-packages (from requests<3.0.0dev,>=2.18.0->google-api-core[grpc]!=2.0.*,!=2.1.*,!=2.10.*,!=2.2.*,!=2.3.*,!=2.4.*,!=2.5.*,!=2.6.*,!=2.7.*,!=2.8.*,!=2.9.*,<3.0.0dev,>=1.34.0->google-cloud-speech) (1.26.14)\n",
            "Requirement already satisfied: pyasn1<0.5.0,>=0.4.6 in /usr/local/lib/python3.8/dist-packages (from pyasn1-modules>=0.2.1->google-auth<3.0dev,>=2.14.1->google-api-core[grpc]!=2.0.*,!=2.1.*,!=2.10.*,!=2.2.*,!=2.3.*,!=2.4.*,!=2.5.*,!=2.6.*,!=2.7.*,!=2.8.*,!=2.9.*,<3.0.0dev,>=1.34.0->google-cloud-speech) (0.4.8)\n",
            "Installing collected packages: google-cloud-speech\n",
            "Successfully installed google-cloud-speech-2.18.0\n"
          ]
        },
        {
          "output_type": "display_data",
          "data": {
            "application/vnd.colab-display-data+json": {
              "pip_warning": {
                "packages": [
                  "google"
                ]
              }
            }
          },
          "metadata": {}
        },
        {
          "output_type": "stream",
          "name": "stdout",
          "text": [
            "Looking in indexes: https://pypi.org/simple, https://us-python.pkg.dev/colab-wheels/public/simple/\n",
            "Collecting pytube\n",
            "  Downloading pytube-12.1.2-py3-none-any.whl (57 kB)\n",
            "\u001b[2K     \u001b[90m━━━━━━━━━━━━━━━━━━━━━━━━━━━━━━━━━━━━━━━━\u001b[0m \u001b[32m57.0/57.0 KB\u001b[0m \u001b[31m2.5 MB/s\u001b[0m eta \u001b[36m0:00:00\u001b[0m\n",
            "\u001b[?25hInstalling collected packages: pytube\n",
            "Successfully installed pytube-12.1.2\n",
            "Looking in indexes: https://pypi.org/simple, https://us-python.pkg.dev/colab-wheels/public/simple/\n",
            "Collecting ffmpeg-python\n",
            "  Downloading ffmpeg_python-0.2.0-py3-none-any.whl (25 kB)\n",
            "Requirement already satisfied: future in /usr/local/lib/python3.8/dist-packages (from ffmpeg-python) (0.16.0)\n",
            "Installing collected packages: ffmpeg-python\n",
            "Successfully installed ffmpeg-python-0.2.0\n",
            "Looking in indexes: https://pypi.org/simple, https://us-python.pkg.dev/colab-wheels/public/simple/\n",
            "Collecting pydub\n",
            "  Downloading pydub-0.25.1-py2.py3-none-any.whl (32 kB)\n",
            "Installing collected packages: pydub\n",
            "Successfully installed pydub-0.25.1\n",
            "Looking in indexes: https://pypi.org/simple, https://us-python.pkg.dev/colab-wheels/public/simple/\n",
            "Collecting SpeechRecognition\n",
            "  Downloading SpeechRecognition-3.9.0-py2.py3-none-any.whl (32.8 MB)\n",
            "\u001b[2K     \u001b[90m━━━━━━━━━━━━━━━━━━━━━━━━━━━━━━━━━━━━━━━━\u001b[0m \u001b[32m32.8/32.8 MB\u001b[0m \u001b[31m37.3 MB/s\u001b[0m eta \u001b[36m0:00:00\u001b[0m\n",
            "\u001b[?25hCollecting requests>=2.26.0\n",
            "  Downloading requests-2.28.2-py3-none-any.whl (62 kB)\n",
            "\u001b[2K     \u001b[90m━━━━━━━━━━━━━━━━━━━━━━━━━━━━━━━━━━━━━━━━\u001b[0m \u001b[32m62.8/62.8 KB\u001b[0m \u001b[31m6.0 MB/s\u001b[0m eta \u001b[36m0:00:00\u001b[0m\n",
            "\u001b[?25hRequirement already satisfied: urllib3<1.27,>=1.21.1 in /usr/local/lib/python3.8/dist-packages (from requests>=2.26.0->SpeechRecognition) (1.26.14)\n",
            "Requirement already satisfied: certifi>=2017.4.17 in /usr/local/lib/python3.8/dist-packages (from requests>=2.26.0->SpeechRecognition) (2022.12.7)\n",
            "Requirement already satisfied: idna<4,>=2.5 in /usr/local/lib/python3.8/dist-packages (from requests>=2.26.0->SpeechRecognition) (2.10)\n",
            "Requirement already satisfied: charset-normalizer<4,>=2 in /usr/local/lib/python3.8/dist-packages (from requests>=2.26.0->SpeechRecognition) (3.0.1)\n",
            "Installing collected packages: requests, SpeechRecognition\n",
            "  Attempting uninstall: requests\n",
            "    Found existing installation: requests 2.25.1\n",
            "    Uninstalling requests-2.25.1:\n",
            "      Successfully uninstalled requests-2.25.1\n",
            "Successfully installed SpeechRecognition-3.9.0 requests-2.28.2\n"
          ]
        }
      ],
      "source": [
        "!pip install --upgrade google-cloud-language\n",
        "!pip install --upgrade google-cloud-speech\n",
        "!pip install pytube\n",
        "!pip install ffmpeg-python\n",
        "!pip install pydub\n",
        "!pip install SpeechRecognition"
      ]
    },
    {
      "cell_type": "markdown",
      "source": [
        "## Loading all Necessary Libraries"
      ],
      "metadata": {
        "id": "TmrFxExhlKya"
      }
    },
    {
      "cell_type": "code",
      "execution_count": null,
      "metadata": {
        "id": "WJB2R8pOUAyG"
      },
      "outputs": [],
      "source": [
        "import json\n",
        "import os\n",
        "from IPython.core.interactiveshell import InteractiveShell\n",
        "InteractiveShell.ast_node_interactivity = \"all\"\n",
        "from google.cloud import language_v1\n",
        "from pydub import AudioSegment\n",
        "from pydub.silence import split_on_silence\n",
        "from google.cloud import speech\n",
        "from google.cloud import storage\n",
        "from google.cloud import speech_v1p1beta1 as speech\n",
        "\n",
        "#json_file = \"/content/sentimentanalysis-379314-a4a6d6259d79.json\"\n",
        "json_file = \"/content/sentimentanalysis-379314-0c54bdecee97.json\"\n",
        "os.environ[\"GOOGLE_APPLICATION_CREDENTIALS\"]=json_file"
      ]
    },
    {
      "cell_type": "code",
      "execution_count": null,
      "metadata": {
        "id": "o2PW9t6gVACP",
        "colab": {
          "base_uri": "https://localhost:8080/"
        },
        "outputId": "95741721-0301-483f-8ce2-87ea2b327ea0"
      },
      "outputs": [
        {
          "output_type": "execute_result",
          "data": {
            "text/plain": [
              "<_io.BufferedRandom name='audio_50_1.wav'>"
            ]
          },
          "metadata": {},
          "execution_count": 3
        },
        {
          "output_type": "execute_result",
          "data": {
            "text/plain": [
              "<_io.BufferedRandom name='audio_50_2.wav'>"
            ]
          },
          "metadata": {},
          "execution_count": 3
        },
        {
          "output_type": "execute_result",
          "data": {
            "text/plain": [
              "<_io.BufferedRandom name='audio_50_3.wav'>"
            ]
          },
          "metadata": {},
          "execution_count": 3
        },
        {
          "output_type": "execute_result",
          "data": {
            "text/plain": [
              "<_io.BufferedRandom name='audio_50_4.wav'>"
            ]
          },
          "metadata": {},
          "execution_count": 3
        },
        {
          "output_type": "stream",
          "name": "stdout",
          "text": [
            "40.0\n"
          ]
        }
      ],
      "source": [
        "\n",
        "audio_file = \"/content/drive/MyDrive/Datasets/phone_call.wav\"\n"
      ]
    },
    {
      "cell_type": "code",
      "execution_count": null,
      "metadata": {
        "id": "P3IVd2uEV-hw"
      },
      "outputs": [],
      "source": [
        "\n",
        "#speech_file = \"/content/Call Center Services.mp3\"\n",
        "speech_file = \"/content/drive/MyDrive/Datasets/phone_call.wav\"\n",
        "#speech_file = \"/content/audio50.wav\"\n",
        "client = speech.SpeechClient()\n",
        "\n",
        "with open(speech_file, \"rb\") as audio_file:\n",
        "    content = audio_file.read()\n"
      ]
    },
    {
      "cell_type": "markdown",
      "source": [
        "## Function to upload File/ Audio File to Google Cloud Storage Bucket"
      ],
      "metadata": {
        "id": "YH8CoTINlf65"
      }
    },
    {
      "cell_type": "code",
      "source": [
        "def upload_file_GCS(colab_file_path,bucket_name,destination_name):\n",
        "\n",
        "  \n",
        "  storage_client = storage.Client()\n",
        "  #bucket_name = \"tsp-sample\"\n",
        "  bucket = storage_client.bucket(bucket_name)\n",
        "  #blob = bucket.blob(\"call_recordings.wav\")\n",
        "  blob = bucket.blob(destination_name)\n",
        "  generation_match_precondition = 0\n",
        "  #source_file_name = \"/content/phone_call.wav\"\n",
        "  source_file_name = colab_file_path\n",
        "  try:\n",
        "    blob.upload_from_filename(source_file_name, if_generation_match=generation_match_precondition)\n",
        "    print (\"Successfully Uploaded  \"+colab_file_path +\"  to GCS Bucket - \"+ bucket_name)\n",
        "  except Exception as e:\n",
        "    print (\"Failed to Uploaded  \"+colab_file_path +\"  to GCS Bucket - \"+ bucket_name)\n",
        "    print (e)\n"
      ],
      "metadata": {
        "id": "7Ux29AMyEEPs"
      },
      "execution_count": null,
      "outputs": []
    },
    {
      "cell_type": "markdown",
      "source": [
        "## Function to get Speakers Details with text based on Input Audio File using Google Speech Client\n",
        "\n",
        "\n"
      ],
      "metadata": {
        "id": "UOygaMPCmrAh"
      }
    },
    {
      "cell_type": "code",
      "source": [
        "def create_transcript(enter_audio_file,uri=False,model_name=None):\n",
        "  \n",
        "  #speech_file = enter_audio_file \n",
        "  client = speech.SpeechClient()\n",
        "  if uri:\n",
        "    audio = speech.RecognitionAudio(uri=enter_audio_file)\n",
        "  else:\n",
        "    with open(enter_audio_file, \"rb\") as audio_file:\n",
        "      content = audio_file.read()\n",
        "      audio = speech.RecognitionAudio(content=content)\n",
        "    \n",
        "  \n",
        "  diarization_config = speech.SpeakerDiarizationConfig(\n",
        "    enable_speaker_diarization=True,\n",
        "    min_speaker_count=2,\n",
        "    max_speaker_count=10\n",
        "    )\n",
        "  if model_name is None:\n",
        "    model_name = \"latest_long\"\n",
        "    \n",
        "  config = speech.RecognitionConfig(\n",
        "    encoding=speech.RecognitionConfig.AudioEncoding.LINEAR16,\n",
        "    sample_rate_hertz=16000,\n",
        "    language_code=\"en-US\",\n",
        "    diarization_config=diarization_config,\n",
        "    model=model_name #\"latest_long\"    \n",
        "    )\n",
        "  try:\n",
        "    if uri:\n",
        "      operation = client.long_running_recognize(config=config, audio=audio)\n",
        "      response = operation.result(timeout=90)\n",
        "\n",
        "    else:\n",
        "      response = client.recognize(config=config, audio=audio)\n",
        "\n",
        "  except Exception as e:\n",
        "    print (\"==============================\")\n",
        "    print (e)\n",
        "    print (\"==============================\")\n",
        "  \n",
        "  result = response.results[-1]\n",
        "  \n",
        "  words_info = result.alternatives[0].words\n",
        "  text_script = [(word_info.word, \"speaker_tag: \"+str(word_info.speaker_tag)) for word_info in words_info]\n",
        "  return text_script\n"
      ],
      "metadata": {
        "id": "DU2njNtwD4ZM"
      },
      "execution_count": null,
      "outputs": []
    },
    {
      "cell_type": "markdown",
      "source": [
        "## Uploading File to google cloud storage bucket"
      ],
      "metadata": {
        "id": "oC_kW5UUm_8C"
      }
    },
    {
      "cell_type": "code",
      "source": [
        "upload_file_GCS(\n",
        "    colab_file_path = \"/content/phone_call.wav\",\n",
        "    bucket_name = \"tsp-sample\",\n",
        "    destination_name = \"new_audio.wav\"\n",
        "                )"
      ],
      "metadata": {
        "id": "c78YnoihlDqK",
        "colab": {
          "base_uri": "https://localhost:8080/"
        },
        "outputId": "a6dfad55-86b4-44a2-f342-9bdb0f93fe05"
      },
      "execution_count": null,
      "outputs": [
        {
          "output_type": "stream",
          "name": "stdout",
          "text": [
            "Successfully Uploaded  /content/phone_call.wav  to GCS Bucket - tsp-sample\n"
          ]
        }
      ]
    },
    {
      "cell_type": "markdown",
      "source": [
        "## Getting Speakers and Text Details based on Audio Input"
      ],
      "metadata": {
        "id": "ZqoL-X_MnEyN"
      }
    },
    {
      "cell_type": "code",
      "source": [
        "#inp_path = \"/content/audio_50_1.wav\"\n",
        "inp_path = \"gs://tsp-sample/new_phone_call.wav\"\n",
        "inp_path = \"gs://tsp-sample/call_recordings.wav\"\n",
        "inp_path = \"gs://tsp-sample/new_audio.wav\"\n",
        "audio_recording = create_transcript(enter_audio_file=inp_path,uri=True)\n",
        "recordings = [i[0] for i in audio_recording]\n",
        "print (\" \".join(recordings))"
      ],
      "metadata": {
        "colab": {
          "base_uri": "https://localhost:8080/"
        },
        "id": "koud8vc0MRSy",
        "outputId": "6ab85fea-2569-4d1a-f565-45847c59b2c6"
      },
      "execution_count": null,
      "outputs": [
        {
          "output_type": "stream",
          "name": "stdout",
          "text": [
            "hello hi Bob this is so how are you doing a pretty good Joe been a while since you called yeah things have been bit busy off late but with the dollar moving around the way it is doing now I thought I would check up on you you did mention that you have an important to cover for next month let's see it was about a million USD wasn't it I would say that this is a good time to book a forward cover for that Bob the pound has already fallen into one point two and it's likely to be further Joe I don't know why I'm even talking to you I'm sorry what was that I do all my banking with your bank so your Commercial Banking team has all my data why do you have to come and ask me if I have an import coming up and why aren't you aware of the exact amount of the invoice well how to manage so many customers you see so all the talk about being a trusted Financial partner for small and medium business is only talk is it lukier Joe I am a small business under million USD is a lot of money to me to so a fight and fall in the pound can make or break me and that's exactly what has happened in the last few weeks the pound has dropped from 1.25 to 1.20 and you find time to call me only now what do you think I cannot follow the markets by myself do you expect me to be grateful to you for coming to me with your advice now when the horses all but bolted that's not true what there's still a lot of downside to the pound I think you should take the cover now well my friend years a bit of news for you I did take the cover a couple of weeks back when the pound was 1.23 to the dollar it may be of interest to you that your main competitor approached me and convince me to book the cover with them and thank God that I didn't wait for you to find time for me that's not fair balls all that helps you with all the financial aspects of your business trade term loans working capital limits Forex and everything well it won't for long I am the process of taking all my business to the competitor and don't tell me that you don't know why I am doing that do listen Bob I am sorry Joe I have given you as much chance that I could as I said before I am a small guy and I don't have Deep Pockets like some of your other clients so I have to watch out for myself because you don't seem to be interested in doing that Bob that's all Joe I have other business writing thanks bye Bob that's all Joe I have other business writing thanks bye\n"
          ]
        }
      ]
    },
    {
      "cell_type": "code",
      "source": [
        "audio_recording"
      ],
      "metadata": {
        "id": "a-VIOO-X2YUV",
        "outputId": "c1441a91-26af-43f1-b6b9-b4a69e787113",
        "colab": {
          "base_uri": "https://localhost:8080/"
        }
      },
      "execution_count": null,
      "outputs": [
        {
          "output_type": "execute_result",
          "data": {
            "text/plain": [
              "[('hello', 'speaker_tag: 2'),\n",
              " ('hi', 'speaker_tag: 2'),\n",
              " ('Bob', 'speaker_tag: 2'),\n",
              " ('this', 'speaker_tag: 2'),\n",
              " ('is', 'speaker_tag: 2'),\n",
              " ('so', 'speaker_tag: 2'),\n",
              " ('how', 'speaker_tag: 2'),\n",
              " ('are', 'speaker_tag: 2'),\n",
              " ('you', 'speaker_tag: 2'),\n",
              " ('doing', 'speaker_tag: 2'),\n",
              " ('a', 'speaker_tag: 2'),\n",
              " ('pretty', 'speaker_tag: 2'),\n",
              " ('good', 'speaker_tag: 2'),\n",
              " ('Joe', 'speaker_tag: 2'),\n",
              " ('been', 'speaker_tag: 2'),\n",
              " ('a', 'speaker_tag: 2'),\n",
              " ('while', 'speaker_tag: 2'),\n",
              " ('since', 'speaker_tag: 2'),\n",
              " ('you', 'speaker_tag: 2'),\n",
              " ('called', 'speaker_tag: 2'),\n",
              " ('yeah', 'speaker_tag: 2'),\n",
              " ('things', 'speaker_tag: 2'),\n",
              " ('have', 'speaker_tag: 2'),\n",
              " ('been', 'speaker_tag: 2'),\n",
              " ('bit', 'speaker_tag: 2'),\n",
              " ('busy', 'speaker_tag: 2'),\n",
              " ('off', 'speaker_tag: 2'),\n",
              " ('late', 'speaker_tag: 2'),\n",
              " ('but', 'speaker_tag: 2'),\n",
              " ('with', 'speaker_tag: 2'),\n",
              " ('the', 'speaker_tag: 2'),\n",
              " ('dollar', 'speaker_tag: 2'),\n",
              " ('moving', 'speaker_tag: 2'),\n",
              " ('around', 'speaker_tag: 2'),\n",
              " ('the', 'speaker_tag: 2'),\n",
              " ('way', 'speaker_tag: 2'),\n",
              " ('it', 'speaker_tag: 2'),\n",
              " ('is', 'speaker_tag: 2'),\n",
              " ('doing', 'speaker_tag: 2'),\n",
              " ('now', 'speaker_tag: 2'),\n",
              " ('I', 'speaker_tag: 2'),\n",
              " ('thought', 'speaker_tag: 2'),\n",
              " ('I', 'speaker_tag: 2'),\n",
              " ('would', 'speaker_tag: 2'),\n",
              " ('check', 'speaker_tag: 2'),\n",
              " ('up', 'speaker_tag: 2'),\n",
              " ('on', 'speaker_tag: 2'),\n",
              " ('you', 'speaker_tag: 2'),\n",
              " ('you', 'speaker_tag: 2'),\n",
              " ('did', 'speaker_tag: 2'),\n",
              " ('mention', 'speaker_tag: 2'),\n",
              " ('that', 'speaker_tag: 2'),\n",
              " ('you', 'speaker_tag: 2'),\n",
              " ('have', 'speaker_tag: 2'),\n",
              " ('an', 'speaker_tag: 2'),\n",
              " ('important', 'speaker_tag: 2'),\n",
              " ('to', 'speaker_tag: 2'),\n",
              " ('cover', 'speaker_tag: 2'),\n",
              " ('for', 'speaker_tag: 2'),\n",
              " ('next', 'speaker_tag: 2'),\n",
              " ('month', 'speaker_tag: 2'),\n",
              " (\"let's\", 'speaker_tag: 2'),\n",
              " ('see', 'speaker_tag: 2'),\n",
              " ('it', 'speaker_tag: 2'),\n",
              " ('was', 'speaker_tag: 2'),\n",
              " ('about', 'speaker_tag: 2'),\n",
              " ('a', 'speaker_tag: 2'),\n",
              " ('million', 'speaker_tag: 2'),\n",
              " ('USD', 'speaker_tag: 2'),\n",
              " (\"wasn't\", 'speaker_tag: 2'),\n",
              " ('it', 'speaker_tag: 2'),\n",
              " ('I', 'speaker_tag: 2'),\n",
              " ('would', 'speaker_tag: 2'),\n",
              " ('say', 'speaker_tag: 2'),\n",
              " ('that', 'speaker_tag: 2'),\n",
              " ('this', 'speaker_tag: 2'),\n",
              " ('is', 'speaker_tag: 2'),\n",
              " ('a', 'speaker_tag: 2'),\n",
              " ('good', 'speaker_tag: 2'),\n",
              " ('time', 'speaker_tag: 2'),\n",
              " ('to', 'speaker_tag: 2'),\n",
              " ('book', 'speaker_tag: 2'),\n",
              " ('a', 'speaker_tag: 2'),\n",
              " ('forward', 'speaker_tag: 2'),\n",
              " ('cover', 'speaker_tag: 2'),\n",
              " ('for', 'speaker_tag: 2'),\n",
              " ('that', 'speaker_tag: 2'),\n",
              " ('Bob', 'speaker_tag: 2'),\n",
              " ('the', 'speaker_tag: 2'),\n",
              " ('pound', 'speaker_tag: 2'),\n",
              " ('has', 'speaker_tag: 2'),\n",
              " ('already', 'speaker_tag: 2'),\n",
              " ('fallen', 'speaker_tag: 2'),\n",
              " ('into', 'speaker_tag: 2'),\n",
              " ('one', 'speaker_tag: 2'),\n",
              " ('point', 'speaker_tag: 2'),\n",
              " ('two', 'speaker_tag: 2'),\n",
              " ('and', 'speaker_tag: 2'),\n",
              " (\"it's\", 'speaker_tag: 2'),\n",
              " ('likely', 'speaker_tag: 2'),\n",
              " ('to', 'speaker_tag: 2'),\n",
              " ('be', 'speaker_tag: 2'),\n",
              " ('further', 'speaker_tag: 2'),\n",
              " ('Joe', 'speaker_tag: 2'),\n",
              " ('I', 'speaker_tag: 2'),\n",
              " (\"don't\", 'speaker_tag: 2'),\n",
              " ('know', 'speaker_tag: 2'),\n",
              " ('why', 'speaker_tag: 2'),\n",
              " (\"I'm\", 'speaker_tag: 2'),\n",
              " ('even', 'speaker_tag: 2'),\n",
              " ('talking', 'speaker_tag: 2'),\n",
              " ('to', 'speaker_tag: 2'),\n",
              " ('you', 'speaker_tag: 2'),\n",
              " (\"I'm\", 'speaker_tag: 2'),\n",
              " ('sorry', 'speaker_tag: 2'),\n",
              " ('what', 'speaker_tag: 2'),\n",
              " ('was', 'speaker_tag: 2'),\n",
              " ('that', 'speaker_tag: 2'),\n",
              " ('I', 'speaker_tag: 2'),\n",
              " ('do', 'speaker_tag: 2'),\n",
              " ('all', 'speaker_tag: 2'),\n",
              " ('my', 'speaker_tag: 2'),\n",
              " ('banking', 'speaker_tag: 2'),\n",
              " ('with', 'speaker_tag: 2'),\n",
              " ('your', 'speaker_tag: 2'),\n",
              " ('bank', 'speaker_tag: 2'),\n",
              " ('so', 'speaker_tag: 2'),\n",
              " ('your', 'speaker_tag: 2'),\n",
              " ('Commercial', 'speaker_tag: 2'),\n",
              " ('Banking', 'speaker_tag: 2'),\n",
              " ('team', 'speaker_tag: 2'),\n",
              " ('has', 'speaker_tag: 2'),\n",
              " ('all', 'speaker_tag: 2'),\n",
              " ('my', 'speaker_tag: 2'),\n",
              " ('data', 'speaker_tag: 2'),\n",
              " ('why', 'speaker_tag: 2'),\n",
              " ('do', 'speaker_tag: 2'),\n",
              " ('you', 'speaker_tag: 2'),\n",
              " ('have', 'speaker_tag: 2'),\n",
              " ('to', 'speaker_tag: 2'),\n",
              " ('come', 'speaker_tag: 2'),\n",
              " ('and', 'speaker_tag: 2'),\n",
              " ('ask', 'speaker_tag: 2'),\n",
              " ('me', 'speaker_tag: 2'),\n",
              " ('if', 'speaker_tag: 2'),\n",
              " ('I', 'speaker_tag: 2'),\n",
              " ('have', 'speaker_tag: 2'),\n",
              " ('an', 'speaker_tag: 2'),\n",
              " ('import', 'speaker_tag: 2'),\n",
              " ('coming', 'speaker_tag: 2'),\n",
              " ('up', 'speaker_tag: 2'),\n",
              " ('and', 'speaker_tag: 2'),\n",
              " ('why', 'speaker_tag: 2'),\n",
              " (\"aren't\", 'speaker_tag: 2'),\n",
              " ('you', 'speaker_tag: 2'),\n",
              " ('aware', 'speaker_tag: 2'),\n",
              " ('of', 'speaker_tag: 2'),\n",
              " ('the', 'speaker_tag: 2'),\n",
              " ('exact', 'speaker_tag: 2'),\n",
              " ('amount', 'speaker_tag: 2'),\n",
              " ('of', 'speaker_tag: 2'),\n",
              " ('the', 'speaker_tag: 2'),\n",
              " ('invoice', 'speaker_tag: 2'),\n",
              " ('well', 'speaker_tag: 2'),\n",
              " ('how', 'speaker_tag: 2'),\n",
              " ('to', 'speaker_tag: 2'),\n",
              " ('manage', 'speaker_tag: 2'),\n",
              " ('so', 'speaker_tag: 2'),\n",
              " ('many', 'speaker_tag: 2'),\n",
              " ('customers', 'speaker_tag: 2'),\n",
              " ('you', 'speaker_tag: 2'),\n",
              " ('see', 'speaker_tag: 2'),\n",
              " ('so', 'speaker_tag: 2'),\n",
              " ('all', 'speaker_tag: 2'),\n",
              " ('the', 'speaker_tag: 2'),\n",
              " ('talk', 'speaker_tag: 2'),\n",
              " ('about', 'speaker_tag: 2'),\n",
              " ('being', 'speaker_tag: 2'),\n",
              " ('a', 'speaker_tag: 2'),\n",
              " ('trusted', 'speaker_tag: 2'),\n",
              " ('Financial', 'speaker_tag: 2'),\n",
              " ('partner', 'speaker_tag: 2'),\n",
              " ('for', 'speaker_tag: 2'),\n",
              " ('small', 'speaker_tag: 2'),\n",
              " ('and', 'speaker_tag: 2'),\n",
              " ('medium', 'speaker_tag: 2'),\n",
              " ('business', 'speaker_tag: 2'),\n",
              " ('is', 'speaker_tag: 2'),\n",
              " ('only', 'speaker_tag: 2'),\n",
              " ('talk', 'speaker_tag: 2'),\n",
              " ('is', 'speaker_tag: 2'),\n",
              " ('it', 'speaker_tag: 2'),\n",
              " ('lukier', 'speaker_tag: 2'),\n",
              " ('Joe', 'speaker_tag: 2'),\n",
              " ('I', 'speaker_tag: 2'),\n",
              " ('am', 'speaker_tag: 2'),\n",
              " ('a', 'speaker_tag: 2'),\n",
              " ('small', 'speaker_tag: 2'),\n",
              " ('business', 'speaker_tag: 2'),\n",
              " ('under', 'speaker_tag: 2'),\n",
              " ('million', 'speaker_tag: 2'),\n",
              " ('USD', 'speaker_tag: 2'),\n",
              " ('is', 'speaker_tag: 2'),\n",
              " ('a', 'speaker_tag: 2'),\n",
              " ('lot', 'speaker_tag: 2'),\n",
              " ('of', 'speaker_tag: 2'),\n",
              " ('money', 'speaker_tag: 2'),\n",
              " ('to', 'speaker_tag: 2'),\n",
              " ('me', 'speaker_tag: 2'),\n",
              " ('to', 'speaker_tag: 2'),\n",
              " ('so', 'speaker_tag: 2'),\n",
              " ('a', 'speaker_tag: 2'),\n",
              " ('fight', 'speaker_tag: 2'),\n",
              " ('and', 'speaker_tag: 2'),\n",
              " ('fall', 'speaker_tag: 2'),\n",
              " ('in', 'speaker_tag: 2'),\n",
              " ('the', 'speaker_tag: 2'),\n",
              " ('pound', 'speaker_tag: 2'),\n",
              " ('can', 'speaker_tag: 2'),\n",
              " ('make', 'speaker_tag: 2'),\n",
              " ('or', 'speaker_tag: 2'),\n",
              " ('break', 'speaker_tag: 2'),\n",
              " ('me', 'speaker_tag: 2'),\n",
              " ('and', 'speaker_tag: 2'),\n",
              " (\"that's\", 'speaker_tag: 2'),\n",
              " ('exactly', 'speaker_tag: 2'),\n",
              " ('what', 'speaker_tag: 2'),\n",
              " ('has', 'speaker_tag: 2'),\n",
              " ('happened', 'speaker_tag: 2'),\n",
              " ('in', 'speaker_tag: 2'),\n",
              " ('the', 'speaker_tag: 2'),\n",
              " ('last', 'speaker_tag: 2'),\n",
              " ('few', 'speaker_tag: 2'),\n",
              " ('weeks', 'speaker_tag: 2'),\n",
              " ('the', 'speaker_tag: 2'),\n",
              " ('pound', 'speaker_tag: 2'),\n",
              " ('has', 'speaker_tag: 2'),\n",
              " ('dropped', 'speaker_tag: 2'),\n",
              " ('from', 'speaker_tag: 2'),\n",
              " ('1.25', 'speaker_tag: 2'),\n",
              " ('to', 'speaker_tag: 2'),\n",
              " ('1.20', 'speaker_tag: 2'),\n",
              " ('and', 'speaker_tag: 2'),\n",
              " ('you', 'speaker_tag: 2'),\n",
              " ('find', 'speaker_tag: 2'),\n",
              " ('time', 'speaker_tag: 2'),\n",
              " ('to', 'speaker_tag: 2'),\n",
              " ('call', 'speaker_tag: 2'),\n",
              " ('me', 'speaker_tag: 2'),\n",
              " ('only', 'speaker_tag: 2'),\n",
              " ('now', 'speaker_tag: 2'),\n",
              " ('what', 'speaker_tag: 2'),\n",
              " ('do', 'speaker_tag: 2'),\n",
              " ('you', 'speaker_tag: 2'),\n",
              " ('think', 'speaker_tag: 2'),\n",
              " ('I', 'speaker_tag: 2'),\n",
              " ('cannot', 'speaker_tag: 2'),\n",
              " ('follow', 'speaker_tag: 2'),\n",
              " ('the', 'speaker_tag: 2'),\n",
              " ('markets', 'speaker_tag: 2'),\n",
              " ('by', 'speaker_tag: 2'),\n",
              " ('myself', 'speaker_tag: 2'),\n",
              " ('do', 'speaker_tag: 2'),\n",
              " ('you', 'speaker_tag: 2'),\n",
              " ('expect', 'speaker_tag: 2'),\n",
              " ('me', 'speaker_tag: 2'),\n",
              " ('to', 'speaker_tag: 2'),\n",
              " ('be', 'speaker_tag: 2'),\n",
              " ('grateful', 'speaker_tag: 2'),\n",
              " ('to', 'speaker_tag: 2'),\n",
              " ('you', 'speaker_tag: 2'),\n",
              " ('for', 'speaker_tag: 2'),\n",
              " ('coming', 'speaker_tag: 2'),\n",
              " ('to', 'speaker_tag: 2'),\n",
              " ('me', 'speaker_tag: 2'),\n",
              " ('with', 'speaker_tag: 2'),\n",
              " ('your', 'speaker_tag: 2'),\n",
              " ('advice', 'speaker_tag: 2'),\n",
              " ('now', 'speaker_tag: 2'),\n",
              " ('when', 'speaker_tag: 2'),\n",
              " ('the', 'speaker_tag: 2'),\n",
              " ('horses', 'speaker_tag: 2'),\n",
              " ('all', 'speaker_tag: 2'),\n",
              " ('but', 'speaker_tag: 2'),\n",
              " ('bolted', 'speaker_tag: 2'),\n",
              " (\"that's\", 'speaker_tag: 2'),\n",
              " ('not', 'speaker_tag: 2'),\n",
              " ('true', 'speaker_tag: 2'),\n",
              " ('what', 'speaker_tag: 2'),\n",
              " (\"there's\", 'speaker_tag: 2'),\n",
              " ('still', 'speaker_tag: 2'),\n",
              " ('a', 'speaker_tag: 2'),\n",
              " ('lot', 'speaker_tag: 2'),\n",
              " ('of', 'speaker_tag: 2'),\n",
              " ('downside', 'speaker_tag: 2'),\n",
              " ('to', 'speaker_tag: 2'),\n",
              " ('the', 'speaker_tag: 2'),\n",
              " ('pound', 'speaker_tag: 2'),\n",
              " ('I', 'speaker_tag: 2'),\n",
              " ('think', 'speaker_tag: 2'),\n",
              " ('you', 'speaker_tag: 2'),\n",
              " ('should', 'speaker_tag: 2'),\n",
              " ('take', 'speaker_tag: 2'),\n",
              " ('the', 'speaker_tag: 2'),\n",
              " ('cover', 'speaker_tag: 2'),\n",
              " ('now', 'speaker_tag: 2'),\n",
              " ('well', 'speaker_tag: 2'),\n",
              " ('my', 'speaker_tag: 2'),\n",
              " ('friend', 'speaker_tag: 2'),\n",
              " ('years', 'speaker_tag: 2'),\n",
              " ('a', 'speaker_tag: 2'),\n",
              " ('bit', 'speaker_tag: 2'),\n",
              " ('of', 'speaker_tag: 2'),\n",
              " ('news', 'speaker_tag: 2'),\n",
              " ('for', 'speaker_tag: 2'),\n",
              " ('you', 'speaker_tag: 2'),\n",
              " ('I', 'speaker_tag: 2'),\n",
              " ('did', 'speaker_tag: 2'),\n",
              " ('take', 'speaker_tag: 2'),\n",
              " ('the', 'speaker_tag: 2'),\n",
              " ('cover', 'speaker_tag: 2'),\n",
              " ('a', 'speaker_tag: 2'),\n",
              " ('couple', 'speaker_tag: 2'),\n",
              " ('of', 'speaker_tag: 2'),\n",
              " ('weeks', 'speaker_tag: 2'),\n",
              " ('back', 'speaker_tag: 2'),\n",
              " ('when', 'speaker_tag: 2'),\n",
              " ('the', 'speaker_tag: 2'),\n",
              " ('pound', 'speaker_tag: 2'),\n",
              " ('was', 'speaker_tag: 2'),\n",
              " ('1.23', 'speaker_tag: 2'),\n",
              " ('to', 'speaker_tag: 2'),\n",
              " ('the', 'speaker_tag: 2'),\n",
              " ('dollar', 'speaker_tag: 2'),\n",
              " ('it', 'speaker_tag: 2'),\n",
              " ('may', 'speaker_tag: 2'),\n",
              " ('be', 'speaker_tag: 2'),\n",
              " ('of', 'speaker_tag: 2'),\n",
              " ('interest', 'speaker_tag: 2'),\n",
              " ('to', 'speaker_tag: 2'),\n",
              " ('you', 'speaker_tag: 2'),\n",
              " ('that', 'speaker_tag: 2'),\n",
              " ('your', 'speaker_tag: 2'),\n",
              " ('main', 'speaker_tag: 2'),\n",
              " ('competitor', 'speaker_tag: 2'),\n",
              " ('approached', 'speaker_tag: 2'),\n",
              " ('me', 'speaker_tag: 2'),\n",
              " ('and', 'speaker_tag: 2'),\n",
              " ('convince', 'speaker_tag: 2'),\n",
              " ('me', 'speaker_tag: 2'),\n",
              " ('to', 'speaker_tag: 2'),\n",
              " ('book', 'speaker_tag: 2'),\n",
              " ('the', 'speaker_tag: 2'),\n",
              " ('cover', 'speaker_tag: 2'),\n",
              " ('with', 'speaker_tag: 2'),\n",
              " ('them', 'speaker_tag: 2'),\n",
              " ('and', 'speaker_tag: 2'),\n",
              " ('thank', 'speaker_tag: 2'),\n",
              " ('God', 'speaker_tag: 2'),\n",
              " ('that', 'speaker_tag: 2'),\n",
              " ('I', 'speaker_tag: 2'),\n",
              " (\"didn't\", 'speaker_tag: 2'),\n",
              " ('wait', 'speaker_tag: 2'),\n",
              " ('for', 'speaker_tag: 2'),\n",
              " ('you', 'speaker_tag: 2'),\n",
              " ('to', 'speaker_tag: 2'),\n",
              " ('find', 'speaker_tag: 2'),\n",
              " ('time', 'speaker_tag: 2'),\n",
              " ('for', 'speaker_tag: 2'),\n",
              " ('me', 'speaker_tag: 2'),\n",
              " (\"that's\", 'speaker_tag: 2'),\n",
              " ('not', 'speaker_tag: 2'),\n",
              " ('fair', 'speaker_tag: 2'),\n",
              " ('balls', 'speaker_tag: 2'),\n",
              " ('all', 'speaker_tag: 2'),\n",
              " ('that', 'speaker_tag: 2'),\n",
              " ('helps', 'speaker_tag: 2'),\n",
              " ('you', 'speaker_tag: 2'),\n",
              " ('with', 'speaker_tag: 2'),\n",
              " ('all', 'speaker_tag: 2'),\n",
              " ('the', 'speaker_tag: 2'),\n",
              " ('financial', 'speaker_tag: 2'),\n",
              " ('aspects', 'speaker_tag: 2'),\n",
              " ('of', 'speaker_tag: 2'),\n",
              " ('your', 'speaker_tag: 2'),\n",
              " ('business', 'speaker_tag: 2'),\n",
              " ('trade', 'speaker_tag: 2'),\n",
              " ('term', 'speaker_tag: 2'),\n",
              " ('loans', 'speaker_tag: 2'),\n",
              " ('working', 'speaker_tag: 2'),\n",
              " ('capital', 'speaker_tag: 2'),\n",
              " ('limits', 'speaker_tag: 2'),\n",
              " ('Forex', 'speaker_tag: 2'),\n",
              " ('and', 'speaker_tag: 2'),\n",
              " ('everything', 'speaker_tag: 2'),\n",
              " ('well', 'speaker_tag: 2'),\n",
              " ('it', 'speaker_tag: 2'),\n",
              " (\"won't\", 'speaker_tag: 2'),\n",
              " ('for', 'speaker_tag: 2'),\n",
              " ('long', 'speaker_tag: 2'),\n",
              " ('I', 'speaker_tag: 2'),\n",
              " ('am', 'speaker_tag: 2'),\n",
              " ('the', 'speaker_tag: 2'),\n",
              " ('process', 'speaker_tag: 2'),\n",
              " ('of', 'speaker_tag: 2'),\n",
              " ('taking', 'speaker_tag: 2'),\n",
              " ('all', 'speaker_tag: 2'),\n",
              " ('my', 'speaker_tag: 2'),\n",
              " ('business', 'speaker_tag: 2'),\n",
              " ('to', 'speaker_tag: 2'),\n",
              " ('the', 'speaker_tag: 2'),\n",
              " ('competitor', 'speaker_tag: 2'),\n",
              " ('and', 'speaker_tag: 2'),\n",
              " (\"don't\", 'speaker_tag: 2'),\n",
              " ('tell', 'speaker_tag: 2'),\n",
              " ('me', 'speaker_tag: 2'),\n",
              " ('that', 'speaker_tag: 2'),\n",
              " ('you', 'speaker_tag: 2'),\n",
              " (\"don't\", 'speaker_tag: 2'),\n",
              " ('know', 'speaker_tag: 2'),\n",
              " ('why', 'speaker_tag: 2'),\n",
              " ('I', 'speaker_tag: 2'),\n",
              " ('am', 'speaker_tag: 2'),\n",
              " ('doing', 'speaker_tag: 2'),\n",
              " ('that', 'speaker_tag: 2'),\n",
              " ('do', 'speaker_tag: 2'),\n",
              " ('listen', 'speaker_tag: 2'),\n",
              " ('Bob', 'speaker_tag: 2'),\n",
              " ('I', 'speaker_tag: 2'),\n",
              " ('am', 'speaker_tag: 2'),\n",
              " ('sorry', 'speaker_tag: 2'),\n",
              " ('Joe', 'speaker_tag: 2'),\n",
              " ('I', 'speaker_tag: 2'),\n",
              " ('have', 'speaker_tag: 2'),\n",
              " ('given', 'speaker_tag: 2'),\n",
              " ('you', 'speaker_tag: 2'),\n",
              " ('as', 'speaker_tag: 2'),\n",
              " ('much', 'speaker_tag: 2'),\n",
              " ('chance', 'speaker_tag: 2'),\n",
              " ('that', 'speaker_tag: 2'),\n",
              " ('I', 'speaker_tag: 2'),\n",
              " ('could', 'speaker_tag: 2'),\n",
              " ('as', 'speaker_tag: 2'),\n",
              " ('I', 'speaker_tag: 2'),\n",
              " ('said', 'speaker_tag: 2'),\n",
              " ('before', 'speaker_tag: 2'),\n",
              " ('I', 'speaker_tag: 2'),\n",
              " ('am', 'speaker_tag: 2'),\n",
              " ('a', 'speaker_tag: 2'),\n",
              " ('small', 'speaker_tag: 2'),\n",
              " ('guy', 'speaker_tag: 2'),\n",
              " ('and', 'speaker_tag: 2'),\n",
              " ('I', 'speaker_tag: 2'),\n",
              " (\"don't\", 'speaker_tag: 2'),\n",
              " ('have', 'speaker_tag: 2'),\n",
              " ('Deep', 'speaker_tag: 2'),\n",
              " ('Pockets', 'speaker_tag: 2'),\n",
              " ('like', 'speaker_tag: 2'),\n",
              " ('some', 'speaker_tag: 2'),\n",
              " ('of', 'speaker_tag: 2'),\n",
              " ('your', 'speaker_tag: 2'),\n",
              " ('other', 'speaker_tag: 2'),\n",
              " ('clients', 'speaker_tag: 2'),\n",
              " ('so', 'speaker_tag: 2'),\n",
              " ('I', 'speaker_tag: 2'),\n",
              " ('have', 'speaker_tag: 2'),\n",
              " ('to', 'speaker_tag: 2'),\n",
              " ('watch', 'speaker_tag: 2'),\n",
              " ('out', 'speaker_tag: 2'),\n",
              " ('for', 'speaker_tag: 2'),\n",
              " ('myself', 'speaker_tag: 2'),\n",
              " ('because', 'speaker_tag: 2'),\n",
              " ('you', 'speaker_tag: 2'),\n",
              " (\"don't\", 'speaker_tag: 2'),\n",
              " ('seem', 'speaker_tag: 2'),\n",
              " ('to', 'speaker_tag: 2'),\n",
              " ('be', 'speaker_tag: 2'),\n",
              " ('interested', 'speaker_tag: 2'),\n",
              " ('in', 'speaker_tag: 2'),\n",
              " ('doing', 'speaker_tag: 2'),\n",
              " ('that', 'speaker_tag: 2'),\n",
              " ('Bob', 'speaker_tag: 2'),\n",
              " (\"that's\", 'speaker_tag: 2'),\n",
              " ('all', 'speaker_tag: 2'),\n",
              " ('Joe', 'speaker_tag: 2'),\n",
              " ('I', 'speaker_tag: 2'),\n",
              " ('have', 'speaker_tag: 2'),\n",
              " ('other', 'speaker_tag: 2'),\n",
              " ('business', 'speaker_tag: 2'),\n",
              " ('writing', 'speaker_tag: 2'),\n",
              " ('thanks', 'speaker_tag: 2'),\n",
              " ('bye', 'speaker_tag: 2'),\n",
              " ('Bob', 'speaker_tag: 2'),\n",
              " (\"that's\", 'speaker_tag: 2'),\n",
              " ('all', 'speaker_tag: 2'),\n",
              " ('Joe', 'speaker_tag: 2'),\n",
              " ('I', 'speaker_tag: 2'),\n",
              " ('have', 'speaker_tag: 2'),\n",
              " ('other', 'speaker_tag: 2'),\n",
              " ('business', 'speaker_tag: 2'),\n",
              " ('writing', 'speaker_tag: 2'),\n",
              " ('thanks', 'speaker_tag: 2'),\n",
              " ('bye', 'speaker_tag: 2')]"
            ]
          },
          "metadata": {},
          "execution_count": 8
        }
      ]
    },
    {
      "cell_type": "code",
      "source": [
        "#audio_50_1_convo = create_transcript(\"/content/audio_50_1.wav\")#,model_name=\"phone_call\")\n",
        "#audio_50_2_convo = create_transcript(\"/content/audio_50_2.wav\")#,model_name=\"phone_call\")\n",
        "#audio_50_3_convo = create_transcript(\"/content/audio_50_3.wav\")#,model_name=\"phone_call\")\n",
        "#audio_50_4_convo = create_transcript(\"/content/audio_50_4.wav\")#,model_name=\"phone_call\")"
      ],
      "metadata": {
        "id": "vcMyC-DUFkgR"
      },
      "execution_count": null,
      "outputs": []
    }
  ],
  "metadata": {
    "colab": {
      "provenance": [],
      "mount_file_id": "1TxmOOscJOwJJ26tU2XFaLNyq08bVFeuR",
      "authorship_tag": "ABX9TyPUpM5YG9AxHrZ3rAqZjAp/",
      "include_colab_link": true
    },
    "kernelspec": {
      "display_name": "Python 3",
      "name": "python3"
    },
    "language_info": {
      "name": "python"
    }
  },
  "nbformat": 4,
  "nbformat_minor": 0
}